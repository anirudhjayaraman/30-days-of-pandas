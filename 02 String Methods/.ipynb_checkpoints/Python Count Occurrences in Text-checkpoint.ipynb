{
 "cells": [
  {
   "cell_type": "raw",
   "id": "fa63815d-bb5d-48ea-8a89-876d21715a30",
   "metadata": {},
   "source": [
    "Table: Files\n",
    "\n",
    "+-------------+---------+\n",
    "| Column Name | Type    |\n",
    "+-- ----------+---------+\n",
    "| file_name   | varchar |\n",
    "| content     | text    |\n",
    "+-------------+---------+\n",
    "file_name is the column with unique values of this table. \n",
    "Each row contains file_name and the content of that file.\n",
    "Write a solution to find the number of files that have at least one occurrence of the words 'bull' and 'bear' as a standalone word, respectively, disregarding any instances where it appears without space on either side (e.g. 'bullet', 'bears', 'bull.', or 'bear' at the beginning or end of a sentence will not be considered) \n",
    "\n",
    "Return the word 'bull' and 'bear' along with the corresponding number of occurrences in any order.\n",
    "\n",
    "The result format is in the following example.\n",
    "\n",
    " \n",
    "\n",
    "Example 1:\n",
    "\n",
    "Input: \n",
    "Files table:\n",
    "+------------+----------------------------------------------------------------------------------+\n",
    "| file_name  | contenet                                                                         | \n",
    "+------------+----------------------------------------------------------------------------------+\n",
    "| draft1.txt | The stock exchange predicts a bull market which would make many investors happy. | \n",
    "| draft2.txt | The stock exchange predicts a bull market which would make many investors happy, |\n",
    "|            | but analysts warn of possibility of too much optimism and that in fact we are    |\n",
    "|            | awaiting a bear market.                                                          | \n",
    "| draft3.txt | The stock exchange predicts a bull market which would make many investors happy, |\n",
    "|            | but analysts warn of possibility of too much optimism and that in fact we are    |\n",
    "|            | awaiting a bear market. As always predicting the future market is an uncertain   |\n",
    "|            | game and all investors should follow their instincts and best practices.         | \n",
    "+------------+----------------------------------------------------------------------------------+\n",
    "Output: \n",
    "+------+-------+\n",
    "| word | count |  \n",
    "+------+-------+\n",
    "| bull | 3     | \n",
    "| bear | 2     | \n",
    "+------+-------+\n",
    "Explanation: \n",
    "- The word \"bull\" appears 1 time in \"draft1.txt\", 1 time in \"draft2.txt\", and 1 time in \"draft3.txt\". Therefore, the total number of occurrences for the word \"bull\" is 3.\n",
    "- The word \"bear\" appears 1 time in \"draft2.txt\", and 1 time in \"draft3.txt\". Therefore, the total number of occurrences for the word \"bear\" is 2."
   ]
  },
  {
   "cell_type": "code",
   "execution_count": 1,
   "id": "b69362d4-e5fb-42c3-82b8-27a57ac2ddb0",
   "metadata": {},
   "outputs": [],
   "source": [
    "import pandas as pd\n",
    "\n",
    "def count_occurrences(files: pd.DataFrame) -> pd.DataFrame:\n",
    "    return pd.DataFrame({'word':['bull','bear'], \n",
    "              'count':[sum(['bull' in i.split(\" \")[1:-1] for i in files.content]), \n",
    "                       sum(['bear' in i.split(\" \")[1:-1] for i in files.content])]})"
   ]
  },
  {
   "cell_type": "code",
   "execution_count": 2,
   "id": "cb01d894-f375-4eef-80f7-8b1aaead135c",
   "metadata": {},
   "outputs": [
    {
     "data": {
      "text/html": [
       "<div>\n",
       "<style scoped>\n",
       "    .dataframe tbody tr th:only-of-type {\n",
       "        vertical-align: middle;\n",
       "    }\n",
       "\n",
       "    .dataframe tbody tr th {\n",
       "        vertical-align: top;\n",
       "    }\n",
       "\n",
       "    .dataframe thead th {\n",
       "        text-align: right;\n",
       "    }\n",
       "</style>\n",
       "<table border=\"1\" class=\"dataframe\">\n",
       "  <thead>\n",
       "    <tr style=\"text-align: right;\">\n",
       "      <th></th>\n",
       "      <th>file_name</th>\n",
       "      <th>content</th>\n",
       "    </tr>\n",
       "  </thead>\n",
       "  <tbody>\n",
       "    <tr>\n",
       "      <th>0</th>\n",
       "      <td>draft1.txt</td>\n",
       "      <td>The stock exchange predicts a bull market whic...</td>\n",
       "    </tr>\n",
       "    <tr>\n",
       "      <th>1</th>\n",
       "      <td>draft2.txt</td>\n",
       "      <td>The stock exchange predicts a bull market whic...</td>\n",
       "    </tr>\n",
       "    <tr>\n",
       "      <th>2</th>\n",
       "      <td>final.txt</td>\n",
       "      <td>The stock exchange predicts a bull market whic...</td>\n",
       "    </tr>\n",
       "  </tbody>\n",
       "</table>\n",
       "</div>"
      ],
      "text/plain": [
       "    file_name                                            content\n",
       "0  draft1.txt  The stock exchange predicts a bull market whic...\n",
       "1  draft2.txt  The stock exchange predicts a bull market whic...\n",
       "2   final.txt  The stock exchange predicts a bull market whic..."
      ]
     },
     "execution_count": 2,
     "metadata": {},
     "output_type": "execute_result"
    }
   ],
   "source": [
    "data = [['draft1.txt', 'The stock exchange predicts a bull market which would make many investors happy.'], ['draft2.txt', 'The stock exchange predicts a bull market which would make many investors happy, but analysts warn of possibility of too much optimism and that in fact we are awaiting a bear market.'], ['final.txt', 'The stock exchange predicts a bull market which would make many investors happy, but analysts warn of possibility of too much optimism and that in fact we are awaiting a bear market. As always predicting the future market is an uncertain game and all investors should follow their instincts and best practices.']]\n",
    "df1 = pd.DataFrame(data, columns=['file_name', 'content']).astype({'file_name':'object', 'content':'object'})\n",
    "df1"
   ]
  },
  {
   "cell_type": "code",
   "execution_count": 3,
   "id": "539fb609-4e17-4af8-affc-64c4f760e69d",
   "metadata": {},
   "outputs": [
    {
     "data": {
      "text/html": [
       "<div>\n",
       "<style scoped>\n",
       "    .dataframe tbody tr th:only-of-type {\n",
       "        vertical-align: middle;\n",
       "    }\n",
       "\n",
       "    .dataframe tbody tr th {\n",
       "        vertical-align: top;\n",
       "    }\n",
       "\n",
       "    .dataframe thead th {\n",
       "        text-align: right;\n",
       "    }\n",
       "</style>\n",
       "<table border=\"1\" class=\"dataframe\">\n",
       "  <thead>\n",
       "    <tr style=\"text-align: right;\">\n",
       "      <th></th>\n",
       "      <th>word</th>\n",
       "      <th>count</th>\n",
       "    </tr>\n",
       "  </thead>\n",
       "  <tbody>\n",
       "    <tr>\n",
       "      <th>0</th>\n",
       "      <td>bull</td>\n",
       "      <td>3</td>\n",
       "    </tr>\n",
       "    <tr>\n",
       "      <th>1</th>\n",
       "      <td>bear</td>\n",
       "      <td>2</td>\n",
       "    </tr>\n",
       "  </tbody>\n",
       "</table>\n",
       "</div>"
      ],
      "text/plain": [
       "   word  count\n",
       "0  bull      3\n",
       "1  bear      2"
      ]
     },
     "execution_count": 3,
     "metadata": {},
     "output_type": "execute_result"
    }
   ],
   "source": [
    "count_occurrences(df1)"
   ]
  },
  {
   "cell_type": "code",
   "execution_count": 4,
   "id": "d23897f0-93fa-4106-8694-eefd09fee10f",
   "metadata": {},
   "outputs": [
    {
     "data": {
      "text/plain": [
       "3"
      ]
     },
     "execution_count": 4,
     "metadata": {},
     "output_type": "execute_result"
    }
   ],
   "source": [
    "sum(['bull' in i.split(\" \") for i in df1.content])"
   ]
  },
  {
   "cell_type": "code",
   "execution_count": 5,
   "id": "c238112f-30ca-4c63-9ef9-75d9fa9bb963",
   "metadata": {},
   "outputs": [
    {
     "data": {
      "text/plain": [
       "2"
      ]
     },
     "execution_count": 5,
     "metadata": {},
     "output_type": "execute_result"
    }
   ],
   "source": [
    "sum(['bear' in i.split(\" \") for i in df1.content])"
   ]
  },
  {
   "cell_type": "code",
   "execution_count": 6,
   "id": "75355b7b-ee3a-4730-a10a-d55b145b8016",
   "metadata": {},
   "outputs": [
    {
     "data": {
      "text/html": [
       "<div>\n",
       "<style scoped>\n",
       "    .dataframe tbody tr th:only-of-type {\n",
       "        vertical-align: middle;\n",
       "    }\n",
       "\n",
       "    .dataframe tbody tr th {\n",
       "        vertical-align: top;\n",
       "    }\n",
       "\n",
       "    .dataframe thead th {\n",
       "        text-align: right;\n",
       "    }\n",
       "</style>\n",
       "<table border=\"1\" class=\"dataframe\">\n",
       "  <thead>\n",
       "    <tr style=\"text-align: right;\">\n",
       "      <th></th>\n",
       "      <th>word</th>\n",
       "      <th>count</th>\n",
       "    </tr>\n",
       "  </thead>\n",
       "  <tbody>\n",
       "    <tr>\n",
       "      <th>0</th>\n",
       "      <td>bull</td>\n",
       "      <td>3</td>\n",
       "    </tr>\n",
       "    <tr>\n",
       "      <th>1</th>\n",
       "      <td>bear</td>\n",
       "      <td>2</td>\n",
       "    </tr>\n",
       "  </tbody>\n",
       "</table>\n",
       "</div>"
      ],
      "text/plain": [
       "   word  count\n",
       "0  bull      3\n",
       "1  bear      2"
      ]
     },
     "execution_count": 6,
     "metadata": {},
     "output_type": "execute_result"
    }
   ],
   "source": [
    "pd.DataFrame({'word':['bull','bear'], \n",
    "              'count':[sum(['bull' in i.split(\" \") for i in df1.content]), \n",
    "                       sum(['bear' in i.split(\" \") for i in df1.content])]})"
   ]
  },
  {
   "cell_type": "code",
   "execution_count": 7,
   "id": "0da645a4-9cb0-43c3-b1d1-e3da3beba014",
   "metadata": {},
   "outputs": [
    {
     "data": {
      "text/plain": [
       "['stock',\n",
       " 'exchange',\n",
       " 'predicts',\n",
       " 'a',\n",
       " 'bull',\n",
       " 'market',\n",
       " 'which',\n",
       " 'would',\n",
       " 'make',\n",
       " 'many',\n",
       " 'investors']"
      ]
     },
     "execution_count": 7,
     "metadata": {},
     "output_type": "execute_result"
    }
   ],
   "source": [
    "'bear stock exchange predicts a bull market which would make many investors bull.'.split(' ')[1:-1]"
   ]
  }
 ],
 "metadata": {
  "kernelspec": {
   "display_name": "Python 3",
   "language": "python",
   "name": "python3"
  },
  "language_info": {
   "codemirror_mode": {
    "name": "ipython",
    "version": 3
   },
   "file_extension": ".py",
   "mimetype": "text/x-python",
   "name": "python",
   "nbconvert_exporter": "python",
   "pygments_lexer": "ipython3",
   "version": "3.8.8"
  }
 },
 "nbformat": 4,
 "nbformat_minor": 5
}
